{
 "cells": [
  {
   "cell_type": "code",
   "execution_count": 7,
   "metadata": {},
   "outputs": [
    {
     "ename": "ModuleNotFoundError",
     "evalue": "No module named 'keras'",
     "output_type": "error",
     "traceback": [
      "\u001b[0;31m---------------------------------------------------------------------------\u001b[0m",
      "\u001b[0;31mModuleNotFoundError\u001b[0m                       Traceback (most recent call last)",
      "\u001b[1;32m/home/demetrios/Downloads/Repositorios/MLflow/Keras/mlflow_Keras.ipynb Cell 1'\u001b[0m in \u001b[0;36m<cell line: 9>\u001b[0;34m()\u001b[0m\n\u001b[1;32m      <a href='vscode-notebook-cell:/home/demetrios/Downloads/Repositorios/MLflow/Keras/mlflow_Keras.ipynb#ch0000000?line=5'>6</a>\u001b[0m \u001b[39mimport\u001b[39;00m \u001b[39mmlflow\u001b[39;00m \n\u001b[1;32m      <a href='vscode-notebook-cell:/home/demetrios/Downloads/Repositorios/MLflow/Keras/mlflow_Keras.ipynb#ch0000000?line=6'>7</a>\u001b[0m \u001b[39mimport\u001b[39;00m \u001b[39mmlflow\u001b[39;00m\u001b[39m.\u001b[39;00m\u001b[39mtensorflow\u001b[39;00m\n\u001b[0;32m----> <a href='vscode-notebook-cell:/home/demetrios/Downloads/Repositorios/MLflow/Keras/mlflow_Keras.ipynb#ch0000000?line=8'>9</a>\u001b[0m \u001b[39mimport\u001b[39;00m \u001b[39mkeras\u001b[39;00m \n\u001b[1;32m     <a href='vscode-notebook-cell:/home/demetrios/Downloads/Repositorios/MLflow/Keras/mlflow_Keras.ipynb#ch0000000?line=9'>10</a>\u001b[0m \u001b[39m''' \u001b[39;00m\n\u001b[1;32m     <a href='vscode-notebook-cell:/home/demetrios/Downloads/Repositorios/MLflow/Keras/mlflow_Keras.ipynb#ch0000000?line=10'>11</a>\u001b[0m \u001b[39mfrom keras.models import Sequential\u001b[39;00m\n\u001b[1;32m     <a href='vscode-notebook-cell:/home/demetrios/Downloads/Repositorios/MLflow/Keras/mlflow_Keras.ipynb#ch0000000?line=11'>12</a>\u001b[0m \u001b[39mfrom keras.layers import Dense, Dropout\u001b[39;00m\n\u001b[1;32m     <a href='vscode-notebook-cell:/home/demetrios/Downloads/Repositorios/MLflow/Keras/mlflow_Keras.ipynb#ch0000000?line=12'>13</a>\u001b[0m \u001b[39mfrom keras.datasets import mnist\u001b[39;00m\n\u001b[1;32m     <a href='vscode-notebook-cell:/home/demetrios/Downloads/Repositorios/MLflow/Keras/mlflow_Keras.ipynb#ch0000000?line=13'>14</a>\u001b[0m \u001b[39mfrom keras.utils import np_util\u001b[39;00m\n\u001b[1;32m     <a href='vscode-notebook-cell:/home/demetrios/Downloads/Repositorios/MLflow/Keras/mlflow_Keras.ipynb#ch0000000?line=14'>15</a>\u001b[0m \u001b[39m'''\u001b[39;00m\n",
      "\u001b[0;31mModuleNotFoundError\u001b[0m: No module named 'keras'"
     ]
    }
   ],
   "source": [
    "import pandas as pd\n",
    "from sklearn.metrics import confusion_matrix\n",
    "import matplotlib.pyplot as plt\n",
    "import numpy as np\n",
    "\n",
    "import mlflow \n",
    "import mlflow.tensorflow\n",
    "\n",
    "import keras \n",
    "''' \n",
    "from keras.models import Sequential\n",
    "from keras.layers import Dense, Dropout\n",
    "from keras.datasets import mnist\n",
    "from keras.utils import np_util\n",
    "'''"
   ]
  },
  {
   "cell_type": "code",
   "execution_count": null,
   "metadata": {},
   "outputs": [],
   "source": [
    "X_treinamento, X_teste, y_treinamento, y_teste = mnist.load_data()\n",
    "plt.imshow(X_treinamento[21], cmap='gray')\n",
    "plt.title(y_treinamento[21])\n"
   ]
  },
  {
   "cell_type": "code",
   "execution_count": null,
   "metadata": {},
   "outputs": [],
   "source": [
    "X_treinamento = X_treinamento.reshape((len(X_treinamento), np.prod(X_treinamento.shape[1:])))\n",
    "X_teste = X_teste.reshape((len(X_teste), np.prod(X_teste.shape[1:])))"
   ]
  }
 ],
 "metadata": {
  "interpreter": {
   "hash": "ea84ecfaebd08734bbbd5a45341c944d78b580ef486d915ffa9d1e43a83fdf90"
  },
  "kernelspec": {
   "display_name": "Python 3.8.10 ('mlflow': venv)",
   "language": "python",
   "name": "python3"
  },
  "language_info": {
   "codemirror_mode": {
    "name": "ipython",
    "version": 3
   },
   "file_extension": ".py",
   "mimetype": "text/x-python",
   "name": "python",
   "nbconvert_exporter": "python",
   "pygments_lexer": "ipython3",
   "version": "3.8.10"
  },
  "orig_nbformat": 4
 },
 "nbformat": 4,
 "nbformat_minor": 2
}
